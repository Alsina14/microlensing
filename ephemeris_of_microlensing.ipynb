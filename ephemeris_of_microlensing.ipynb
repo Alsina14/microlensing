{
 "cells": [
  {
   "cell_type": "markdown",
   "id": "female-basement",
   "metadata": {},
   "source": [
    "# Рассчет эфемерид микролинзирования"
   ]
  },
  {
   "cell_type": "code",
   "execution_count": 93,
   "id": "entire-coffee",
   "metadata": {},
   "outputs": [],
   "source": [
    "from math import *\n",
    "import numpy as np\n",
    "from datetime import datetime, date\n",
    "from astropy.time import Time\n",
    "from astroquery.jplhorizons import Horizons\n"
   ]
  },
  {
   "cell_type": "markdown",
   "id": "bbe547ed",
   "metadata": {},
   "source": [
    "### Функция для вычисления положения звезды в экваториальных декартовых координатах с учетом параллактического смещения и собственного движения \n",
    " $\\alpha, \\delta$ - экваториальные координаты в опорную эпоху $t_0$ ,\n",
    " $\\mu_{\\delta}, \\mu_{\\alpha} = \\mu_{\\alpha^*}/\\cos{\\delta}$ - компоненты собственного движения,\n",
    " $dist = 1/\\varpi$ - расстояние до объекта,\n",
    " $\\boldsymbol{E}(t)$ - это геоцентрическое положение Солнца в экваториальных декартовых координатах на момент времени $t$\n",
    "\\begin{equation*}\n",
    "\\boldsymbol{x}(t) = \\begin{pmatrix} \\cos(\\delta + \\mu_{\\delta}(t-t_0)) \\cos(\\alpha + \\mu_{\\alpha}(t-t_0)) \\\\ \\cos(\\delta + \\mu_{\\delta}(t-t_0)) \\sin(\\alpha + \\mu_{\\alpha}(t-t_0)) \\\\ \\sin(\\delta + \\mu_{\\delta}(t-t_0)) \\end{pmatrix} \\cdot dist + \\boldsymbol{E}(t)\n",
    "\\end{equation*}\n"
   ]
  },
  {
   "cell_type": "code",
   "execution_count": 94,
   "id": "98b1dab4",
   "metadata": {},
   "outputs": [],
   "source": [
    "def coord(ra, dec, t0, t, plx, pmra, pmdec):\n",
    "    #all parameters in degrees\n",
    "    plx = plx*3600\n",
    "    pmra = pmra/cos(radians(dec))\n",
    "    ra1, dec1 = map(radians, [ra +  pmra*(t - t0), dec + pmdec*(t - t0)])\n",
    "    x0 = np.array([cos(dec1)*cos(ra1), cos(dec1)*sin(ra1), sin(dec1)])*206265/plx\n",
    "    JD = Time(t, format = 'jyear').jd\n",
    "    obj = Horizons(id='sun', id_type='majorbody', location='399', epochs=JD)\n",
    "    ev= obj.vectors(refplane='earth')\n",
    "    E = np.array([ ev['x'][0], ev['y'][0], ev['z'][0]])\n",
    "    \n",
    "    return x0 + E"
   ]
  },
  {
   "cell_type": "markdown",
   "id": "demographic-fraud",
   "metadata": {},
   "source": [
    "### Входные данные источника и линзы для дальнейшего рассчета эфемерид микролинзирования"
   ]
  },
  {
   "cell_type": "code",
   "execution_count": 95,
   "id": "surface-football",
   "metadata": {},
   "outputs": [],
   "source": [
    "t0 = 2016.0\n",
    "\n",
    "#Для рассчета эфемерид микролинзирования необходимо ввести координаты на момент времени t0, собственные движения,\n",
    "# параллаксы, звездные величины для линзы и источника, массу линзы, время (в примерах ниже время наибольшего сближения)\n",
    "\n",
    "events = [\n",
    "{'ra_s': 280.40180044, 'dec_s': 0.90750181, 'plx_s': 0.61488754, 'pmra_s': -2.0213466, 'pmdec_s': -6.317931,\n",
    "'ra_l': 280.40170318, 'dec_l': 0.91170624, 'plx_l': 33.253544, 'pmra_l': 46.01097, 'pmdec_l': -1981.2155,\n",
    "'t': 2023.6639973853855, 'mag_l': 11.555, 'mag_s': 20.4161, 'M': 0.4187125 },\n",
    "\n",
    "{'ra_s': 342.20166306, 'dec_s': 45.33585263, 'plx_s': 0.59739923, 'pmra_s': -5.3419695, 'pmdec_s': -5.1250076,\n",
    "'ra_l': 342.20107927, 'dec_l': 45.33670251, 'plx_l': 32.53825, 'pmra_l': 176.0452, 'pmdec_l': -380.09622,\n",
    "'t': 2024.1175280033751, 'mag_l': 13.596, 'mag_s': 17.0734, 'M': 0.22968246 },\n",
    "    \n",
    "{'ra_s': 6.21763794, 'dec_s': 68.57991699, 'plx_s': 1.0019236, 'pmra_s': -0.7912279, 'pmdec_s': 2.801217,\n",
    "'ra_l': 6.21486490, 'dec_l': 68.57978306, 'plx_l': 27.757534, 'pmra_l': 411.58395, 'pmdec_l': 23.018646,\n",
    "'t': 2024.7601512315396, 'mag_l': 17.4672, 'mag_s': 20.8068, 'M': 0.65 }    \n",
    "]\n",
    "\n",
    "i = 2  # номер события в списке events\n",
    "\n",
    "# параметры источника на t0\n",
    "ra_s, dec_s = events[i]['ra_s'], events[i]['dec_s'] #в градусах\n",
    "plx_s = events[i]['plx_s'] #в милисекундах дуги\n",
    "pmRA_s, pmDEC_s = events[i]['pmra_s'], events[i]['pmdec_s'] #в милисекундах дуги в год\n",
    "\n",
    "#параметры линзы на t0\n",
    "ra_l, dec_l = events[i]['ra_l'], events[i]['dec_l']\n",
    "plx_l = events[i]['plx_l']\n",
    "pmRA_l, pmDEC_l = events[i]['pmra_l'], events[i]['pmdec_l']\n",
    "\n",
    "t = events[i]['t'] # время в долях года\n",
    "mag_l = events[i]['mag_l'] # звездная величина линзы\n",
    "mag_s = events[i]['mag_s'] # звездная величина источника\n",
    "f_ls = 10**(0.4*(mag_s - mag_l)) # отношение потоков линзы и источника\n",
    "M = events[i]['M'] # масса линзы\n",
    "\n",
    "\n"
   ]
  },
  {
   "cell_type": "markdown",
   "id": "30b42477-58fc-43c6-b8d0-1b9a7df7c005",
   "metadata": {},
   "source": [
    "### Угловое расстояние между линзой и источником\n",
    "\\begin{equation}\n",
    "    d(t) = 2 \\cdot \\arcsin \\left( \\left| \\frac{\\boldsymbol{x_{l}}(t)}{|\\boldsymbol{x_{l}}(t)|} - \\frac{\\boldsymbol{x_{s}}(t)}{|\\boldsymbol{x_{s}}(t)|} \\right| \\cdot 0.5 \\right)\n",
    "\\end{equation}"
   ]
  },
  {
   "cell_type": "code",
   "execution_count": 96,
   "id": "90a1c47b",
   "metadata": {},
   "outputs": [],
   "source": [
    "def angdist(t):\n",
    "    #return distance between lens and source in degrees\n",
    "    s = coord(ra_s, dec_s, t0, t, plx_s/3.6e6, pmRA_s/3.6e6, pmDEC_s/3.6e6)\n",
    "    l = coord(ra_l, dec_l, t0, t, plx_l/3.6e6, pmRA_l/3.6e6, pmDEC_l/3.6e6)\n",
    "    d = 2*asin(0.5*np.linalg.norm(l/np.linalg.norm(l) - s/np.linalg.norm(s)))\n",
    "    return degrees(d)"
   ]
  },
  {
   "cell_type": "markdown",
   "id": "2893fcfb",
   "metadata": {},
   "source": [
    "### Создаем класс микролинзирования с методами неразрешеннего и частично-разрешенного микролинзирования. Рассматриваются случаи с \"темной\" и \"яркой\" линзой\n",
    "\n"
   ]
  },
  {
   "cell_type": "code",
   "execution_count": 97,
   "id": "2b619f1c",
   "metadata": {},
   "outputs": [],
   "source": [
    "class Microlensing:\n",
    "    '''M - масса линзы в массах солнца\n",
    "    plx_x, plx_s - в mas, координатные векторы - в градусах\n",
    "    t - в юлианских днях'''\n",
    "    def __init__(self, angdist, t, M, plx_l, plx_s):\n",
    "        self.d = angdist(t)*3.6e6  #dist in mas\n",
    "        \n",
    "        \n",
    "        #const = sqrt((2*1.32712442076*(10**20)/299792458**2)*2*206264.8*10**3/149597870700)\n",
    "        const = 2.854\n",
    "        \n",
    "        # радиус конуса Эйнштейна в милисекундах дуги\n",
    "        self.theta_e = const*sqrt(M*(plx_l - plx_s))\n",
    "        #прицельный параметр\n",
    "        self.u = self.d/self.theta_e\n",
    "        \n",
    "        #Увеличения потоков для I1, I2:\n",
    "        self.A1 = 0.5 + (self.u**2 + 2)/(2*self.u*sqrt(self.u**2 + 4))\n",
    "        self.A2 = self.A1 - 1\n",
    "        #общее увеличение системы для темной линзы:\n",
    "        self.A = self.A1 + self.A2\n",
    "        \n",
    "        # расстояние L − I1 в mas\n",
    "        self.theta_1 = self.theta_e*(sqrt(self.u**2 + 4) + self.u)/2\n",
    "        # расстояние L − I2 / S − I1 в mas\n",
    "        self.theta_2 = self.theta_1 - self.theta_e*self.u\n",
    "        \n",
    "        \n",
    "    def unresolved_microlensing(self, f_ls):\n",
    "        '''Случай линзирования, когда изображения и линза неразрешены.\n",
    "        Принимает на вход отношение потоков источника и линзы.\n",
    "        '''\n",
    "        #общее увеличение потока системы в случае дополнительного источника света\n",
    "        A_lum = (self.A + f_ls)/(f_ls + 1)\n",
    "        dmag = 2.5*log10(A_lum)\n",
    "        \n",
    "        #расстояние от линзы до центроида света линзы и источника при микролинзировании в mas\n",
    "        theta_mic = (self.A1*self.theta_1 - self.A2*self.theta_2)/(self.A1 + self.A2 + f_ls)\n",
    "        #расстояние от линзы до центроида света линзы и источника без микролинзирования в mas\n",
    "        theta_ls = self.theta_e*self.u/(1 + f_ls)\n",
    "        # смещение центроида света\n",
    "        shift_lum = theta_mic - theta_ls\n",
    "        \n",
    "        #смещение центроида света изображений для темной линзы относительно источника:\n",
    "        shift = self.u*self.theta_e/(self.u**2 + 2)\n",
    "        \n",
    "        return {'A_lum': A_lum, 'dm': dmag, 'theta_mic': theta_mic, 'theta_ls': theta_ls, 'centroid_shift': shift, 'centroid_shift_lum' : shift_lum}\n",
    "    \n",
    "    \n",
    "    def partial_microlensing(self, f_ls):\n",
    "        '''Случай микролинзирования с частичным разрешением, когда 1 изображение и линза неразрешены.\n",
    "        Принимает на вход потоки источника и линзы.\n",
    "        Возвращает увеличения потока системы 2 изображения и с линзой,\n",
    "        угловое расстояние центроида 2 изображения и линзы, отсчитываемое от линзы'''\n",
    "        A_2l = (self.A2 + f_ls)/f_ls\n",
    "\n",
    "        theta_2l = self.A2*self.theta_2/(self.A2 + f_ls)\n",
    "        \n",
    "        return {'A_2l': A_2l, 'theta_2l': theta_2l}\n",
    "        "
   ]
  },
  {
   "cell_type": "markdown",
   "id": "151c4a8c",
   "metadata": {},
   "source": [
    "### Подставляем циферки и смотрим, какие параметры микролинзирования получаются"
   ]
  },
  {
   "cell_type": "code",
   "execution_count": 98,
   "id": "da21e332",
   "metadata": {},
   "outputs": [
    {
     "name": "stdout",
     "output_type": "stream",
     "text": [
      "theta_e: 11.901948830446893 mas \n",
      " u: 23.80840708732511\n",
      " A1: 1.0000030904618886\n",
      " A2: 3.0904618886218316e-06\n",
      " A: 1.0000061809237772 \n",
      " theta_i1s: 0.49902647996628957 mas\n",
      "unresolved_microlensing: {'A_lum': 1.0000002726590673, 'dm': 2.960357805909407e-07, 'theta_mic': 12.522191601959713, 'theta_ls': 12.500142831795584, 'centroid_shift': 0.49814766776130553, 'centroid_shift_lum': 0.02204877016412965}\n",
      " partial_microlensing: {'A_2l': 1.0000001426209721, 'theta_2l': 7.117163152748193e-08}\n"
     ]
    }
   ],
   "source": [
    "event1 = Microlensing(angdist, t, M, plx_l, plx_s)\n",
    "print(f\"theta_e: {event1.theta_e} mas \\n u: {event1.u}\\n A1: {event1.A1}\\n A2: {event1.A2}\\n A: {event1.A} \\n theta_i1s: {event1.theta_2} mas\")\n",
    "print(f\"unresolved_microlensing: {event1.unresolved_microlensing(f_ls)}\\n partial_microlensing: {event1.partial_microlensing(f_ls)}\")"
   ]
  },
  {
   "cell_type": "code",
   "execution_count": null,
   "id": "08610228-99bd-404e-9b45-c4812de88f06",
   "metadata": {},
   "outputs": [],
   "source": []
  }
 ],
 "metadata": {
  "kernelspec": {
   "display_name": "Python 3 (ipykernel)",
   "language": "python",
   "name": "python3"
  },
  "language_info": {
   "codemirror_mode": {
    "name": "ipython",
    "version": 3
   },
   "file_extension": ".py",
   "mimetype": "text/x-python",
   "name": "python",
   "nbconvert_exporter": "python",
   "pygments_lexer": "ipython3",
   "version": "3.9.18"
  }
 },
 "nbformat": 4,
 "nbformat_minor": 5
}
